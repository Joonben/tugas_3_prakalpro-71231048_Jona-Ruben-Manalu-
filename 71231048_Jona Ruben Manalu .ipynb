{
 "cells": [
  {
   "cell_type": "code",
   "execution_count": 1,
   "id": "5cbd8cdb",
   "metadata": {},
   "outputs": [
    {
     "name": "stdout",
     "output_type": "stream",
     "text": [
      "Masukan Suhu Tubuh :dua puluh satu\n",
      "input yang anda buat salah,\n",
      "coba ulang lagi\n"
     ]
    }
   ],
   "source": [
    "#Latihan mandiri 3.1\n",
    "#contoh 3.1\n",
    "\n",
    "suhu = input(\"Masukan Suhu Tubuh :\")\n",
    "try:\n",
    "    isuhu = int(suhu)\n",
    "    if isuhu >= 38:\n",
    "        print(\"suhu anda demam\")\n",
    "    elif isuhu >=35 and isuhu <=37:\n",
    "        print(\"anda dalam kondisi sehat\")\n",
    "except :\n",
    "    print(\"input yang anda buat salah,\\ncoba ulang lagi\")"
   ]
  },
  {
   "cell_type": "code",
   "execution_count": 5,
   "id": "2b597d2e",
   "metadata": {},
   "outputs": [
    {
     "name": "stdout",
     "output_type": "stream",
     "text": [
      "Masukan suatu bilangan -90\n",
      "bilangan ini negatif\n"
     ]
    }
   ],
   "source": [
    "#latihan mandiri 3.1\n",
    "#contoh 3.2\n",
    "bilangan = input(\"Masukan suatu bilangan \")\n",
    "try:\n",
    "    ibilangan = int(bilangan)\n",
    "    if ibilangan > 0:\n",
    "        print(\"bilangan ini positif\")\n",
    "    elif ibilangan < 0:\n",
    "        print(\"bilangan ini negatif\")\n",
    "    elif ibilangan == 0:\n",
    "        print(\"bilangan ini Nol\")\n",
    "except:\n",
    "    print (\"input yang anda buat salah!!\\ncoba ulang lagi\")"
   ]
  },
  {
   "cell_type": "code",
   "execution_count": 6,
   "id": "9afb6674",
   "metadata": {},
   "outputs": [
    {
     "name": "stdout",
     "output_type": "stream",
     "text": [
      "Masukan bilangan pertama:2\n",
      "Masukan bilangan kedua  :4\n",
      "Masukan bilangan ketiga :6\n",
      "Terbesar : 6\n"
     ]
    }
   ],
   "source": [
    "#latihan mandiri 3.1\n",
    "#contoh 3.3\n",
    "a = input(\"Masukan bilangan pertama:\")\n",
    "b = input(\"Masukan bilangan kedua  :\")\n",
    "c = input(\"Masukan bilangan ketiga :\")\n",
    "try:\n",
    "    bil_a : int(a)\n",
    "    bil_b : int(b)\n",
    "    bil_c : int(c)\n",
    "    if a > b and a > c:\n",
    "        print (\"Terbesar :\", a)\n",
    "    elif b > a and b > c:\n",
    "        print (\"Terbesar :\", b)\n",
    "    elif c > a and c > b:\n",
    "        print (\"Terbesar :\", c)\n",
    "    elif a == b and b == c and a == c:\n",
    "        print (\"semua angka sama\")\n",
    "except :\n",
    "    print(\"input anda sangatlah salah!!\\nmasukan input angka yang benar\")"
   ]
  },
  {
   "cell_type": "code",
   "execution_count": 8,
   "id": "d410ca51",
   "metadata": {},
   "outputs": [
    {
     "name": "stdout",
     "output_type": "stream",
     "text": [
      "masukan bilangan :uhhhuy\n",
      "input anda fatal!!\n",
      "masukan inputan dengan benar\n"
     ]
    }
   ],
   "source": [
    "#latihan mandiri 3.2\n",
    "bilangan = input(\"masukan bilangan :\")\n",
    "try:\n",
    "    ibilangan = int(bilangan)\n",
    "    rumus = \"positif\"if ibilangan > 0 else \"negatif\" if(ibilangan < 0) else \"nol\"\n",
    "    print(rumus)\n",
    "except :\n",
    "    print(\"input anda fatal!!\\nmasukan inputan dengan benar\")"
   ]
  },
  {
   "cell_type": "code",
   "execution_count": 12,
   "id": "392a3f05",
   "metadata": {},
   "outputs": [
    {
     "name": "stdout",
     "output_type": "stream",
     "text": [
      "masukan bulan (dalam angka) :4\n",
      "jumlah hari dalam sebulan :30\n"
     ]
    }
   ],
   "source": [
    "#latihan mandiri 3.3\n",
    "Month = input(\"masukan bulan (dalam angka) :\")\n",
    "try:\n",
    "    iMonth = int(Month)\n",
    "    if iMonth == 1 or iMonth == 3 or iMonth == 5 or iMonth == 7 or iMonth == 8 or iMonth == 10 or iMonth == 12:\n",
    "        print(\"Jumlah hari dalam sebulan : 31\")\n",
    "    elif iMonth == 4 or iMonth == 6 or iMonth == 9 or iMonth == 11:\n",
    "        print(\"jumlah hari dalam sebulan :30\")\n",
    "    elif iMonth == 2:\n",
    "        print(\"jumlah hari dalam sebulan :28\")\n",
    "    else :\n",
    "        print(\"Dalam satu tahun cuma 12 bulan!!!\")\n",
    "except:\n",
    "        print(\"Inputan anda sangat salah \\nmasukan kembali dengan benar\")"
   ]
  },
  {
   "cell_type": "code",
   "execution_count": 5,
   "id": "888fe469",
   "metadata": {},
   "outputs": [
    {
     "name": "stdout",
     "output_type": "stream",
     "text": [
      "Masukan Sisi 1 : 8\n",
      "Masukan Sisi 2 : 9\n",
      "Masukan Sisi 3 : 8\n",
      "Ada dua sisi yang sama\n"
     ]
    }
   ],
   "source": [
    "#latihan mandiri 3.4\n",
    "A = input(\"Masukan Sisi 1 : \")\n",
    "B = input(\"Masukan Sisi 2 : \")\n",
    "C = input(\"Masukan Sisi 3 : \")\n",
    "try :\n",
    "    iA = int(A)\n",
    "    iB = int(B)\n",
    "    iC = int(C)\n",
    "    if iA!= iB and iA != iC and iB != iC :\n",
    "        print(\"Tidak ada sisi yang sama\")\n",
    "    elif iA == iB and iA == iC and iB == iC :\n",
    "        print(\"Semua sisi sama\")\n",
    "    elif iA == iB or iA == iC or iB == iC :\n",
    "        print(\"Ada dua sisi yang sama\")\n",
    "except :\n",
    "    print(\"memasukan input yang tidak valid\")"
   ]
  },
  {
   "cell_type": "code",
   "execution_count": null,
   "id": "e0aea618",
   "metadata": {},
   "outputs": [],
   "source": []
  }
 ],
 "metadata": {
  "kernelspec": {
   "display_name": "Python 3 (ipykernel)",
   "language": "python",
   "name": "python3"
  },
  "language_info": {
   "codemirror_mode": {
    "name": "ipython",
    "version": 3
   },
   "file_extension": ".py",
   "mimetype": "text/x-python",
   "name": "python",
   "nbconvert_exporter": "python",
   "pygments_lexer": "ipython3",
   "version": "3.11.5"
  }
 },
 "nbformat": 4,
 "nbformat_minor": 5
}
